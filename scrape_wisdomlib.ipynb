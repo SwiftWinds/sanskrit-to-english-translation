{
 "cells": [
  {
   "cell_type": "code",
   "execution_count": 55,
   "metadata": {
    "collapsed": true
   },
   "outputs": [],
   "source": [
    "from bs4 import BeautifulSoup\n",
    "from urllib.request import Request, urlopen\n",
    "\n",
    "import json"
   ]
  },
  {
   "cell_type": "code",
   "execution_count": 48,
   "outputs": [],
   "source": [
    "# these headers are just copy-pasted from the top stackoverflow answer\n",
    "req = Request('https://www.wisdomlib.org/hinduism/book/padma-purana-sanskrit/d/doc427636.html', headers={'User-Agent': 'Mozilla/5.0'})  # this is the URL to the directory of all the chapters of Padma Purana in ancient Sanskrit\n",
    "html_page = urlopen(req).read()"
   ],
   "metadata": {
    "collapsed": false
   }
  },
  {
   "cell_type": "code",
   "execution_count": 49,
   "outputs": [],
   "source": [
    "soup = BeautifulSoup(html_page, 'html.parser')"
   ],
   "metadata": {
    "collapsed": false
   }
  },
  {
   "cell_type": "code",
   "execution_count": 50,
   "outputs": [],
   "source": [
    "sanskrit_chapter_urls =[f\"https://www.wisdomlib.org{a['href']}\" for a in soup.select(\".py-1.py-md-0.il-cont.cve a\")]"
   ],
   "metadata": {
    "collapsed": false
   }
  },
  {
   "cell_type": "code",
   "execution_count": 51,
   "outputs": [],
   "source": [
    "sanskrit_chapters = []"
   ],
   "metadata": {
    "collapsed": false
   }
  },
  {
   "cell_type": "code",
   "execution_count": 52,
   "outputs": [],
   "source": [
    "# BeautifulSoup returns results in the order they appear in the DOM, so we can know that these chapter URLs are in order (chapter 1, 2, ..., 82)\n",
    "for i, url in enumerate(sanskrit_chapter_urls):\n",
    "    chapter = { \"url\": url, \"chapter\": i + 1 }\n",
    "    req = Request(url, headers={'User-Agent': 'Mozilla/5.0'})\n",
    "    html_page = urlopen(req).read()\n",
    "    soup = BeautifulSoup(html_page, 'html.parser')\n",
    "    chapter[\"verses\"] = [p.text.strip().replace(\" \\n[Analyze grammar]\", \"\") for p in soup.select_one('#scontent').findChildren('p',recursive=False)[1:]]\n",
    "    sanskrit_chapters.append(chapter)"
   ],
   "metadata": {
    "collapsed": false
   }
  },
  {
   "cell_type": "code",
   "execution_count": 61,
   "outputs": [],
   "source": [
    "with open('sanskrit_chapters.json', 'w') as f:\n",
    "    json.dump(sanskrit_chapters, f)"
   ],
   "metadata": {
    "collapsed": false
   }
  },
  {
   "cell_type": "code",
   "execution_count": 62,
   "outputs": [
    {
     "data": {
      "text/plain": "'na vṛddhimagamallokastadā maithunayogataḥ |\\ndakṣaḥ putrasahasrāṇi tadāsiknyāmajījanat || 4 ||'"
     },
     "execution_count": 62,
     "metadata": {},
     "output_type": "execute_result"
    }
   ],
   "source": [
    "sanskrit_chapters[5][\"verses\"][3]"
   ],
   "metadata": {
    "collapsed": false
   }
  }
 ],
 "metadata": {
  "kernelspec": {
   "display_name": "Python 3",
   "language": "python",
   "name": "python3"
  },
  "language_info": {
   "codemirror_mode": {
    "name": "ipython",
    "version": 2
   },
   "file_extension": ".py",
   "mimetype": "text/x-python",
   "name": "python",
   "nbconvert_exporter": "python",
   "pygments_lexer": "ipython2",
   "version": "2.7.6"
  }
 },
 "nbformat": 4,
 "nbformat_minor": 0
}
